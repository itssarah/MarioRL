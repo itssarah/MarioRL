{
 "cells": [
  {
   "cell_type": "markdown",
   "id": "51fa1096",
   "metadata": {},
   "source": [
    "### 1. Setup Mario"
   ]
  },
  {
   "cell_type": "code",
   "execution_count": null,
   "id": "b03dd80a",
   "metadata": {},
   "outputs": [],
   "source": [
    "#Import the game\n",
    "import gym_super_mario_bros\n",
    "#import the Joypad wrapper\n",
    "from nes_py.wrappers import JoypadSpace\n",
    "#import the SIMPLIFIED controls\n",
    "from gym_super_mario_bros.actions import SIMPLE_MOVEMENT"
   ]
  },
  {
   "cell_type": "code",
   "execution_count": null,
   "id": "6c2cfec3",
   "metadata": {},
   "outputs": [],
   "source": [
    "#setup game\n",
    "env = gym_super_mario_bros.make('SuperMarioBros-v0')\n",
    "env = JoypadSpace(env, SIMPLE_MOVEMENT)"
   ]
  },
  {
   "cell_type": "code",
   "execution_count": null,
   "id": "a14c559f",
   "metadata": {},
   "outputs": [],
   "source": [
    "env.action_spacetion_space"
   ]
  },
  {
   "cell_type": "code",
   "execution_count": null,
   "id": "3e5e6976",
   "metadata": {},
   "outputs": [],
   "source": [
    "env.observation_space.shape"
   ]
  },
  {
   "cell_type": "code",
   "execution_count": null,
   "id": "a508439e",
   "metadata": {},
   "outputs": [],
   "source": [
    "#create a flag - restart or not\n",
    "\n",
    "done = True\n",
    "#loop through each frame in the game\n",
    "for step in range(1000):\n",
    "    if done:\n",
    "    # start the game\n",
    "        env.reset()\n",
    "  # take random action\n",
    "    state, reward, done, info = env.step(env.action_space.sample())\n",
    "  # show the game on the screen\n",
    "    env.render()\n",
    "# close the game\n",
    "env.close()"
   ]
  },
  {
   "cell_type": "markdown",
   "id": "a5a2274d",
   "metadata": {},
   "source": [
    "### 2. Preprocess Environment"
   ]
  },
  {
   "cell_type": "code",
   "execution_count": null,
   "id": "e6420c3a",
   "metadata": {},
   "outputs": [],
   "source": [
    "import os    \n",
    "os.environ['KMP_DUPLICATE_LIB_OK']='True'"
   ]
  },
  {
   "cell_type": "code",
   "execution_count": null,
   "id": "29405511",
   "metadata": {},
   "outputs": [],
   "source": [
    "#import Frame Stacker Wrapper and GrayScaling Wrapper\n",
    "from gym.wrappers import GrayScaleObservation\n",
    "#import Vectorization Wrappers\n",
    "from stable_baselines3.common.vec_env import VecFrameStack, DummyVecEnv\n",
    "#import Matplotlib to show the impact of frame stacking\n",
    "from matplotlib import pyplot as plt"
   ]
  },
  {
   "cell_type": "code",
   "execution_count": null,
   "id": "e414afd7",
   "metadata": {},
   "outputs": [],
   "source": [
    "#1. create the base environment\n",
    "env = gym_super_mario_bros.make('SuperMarioBros-v0')\n",
    "\n",
    "#2. simplify the controls\n",
    "env = JoypadSpace(env, SIMPLE_MOVEMENT)\n",
    "\n",
    "#3. grayScale\n",
    "env = GrayScaleObservation(env, keep_dim=True)\n",
    "\n",
    "#4. wrap inside the dummy environment\n",
    "env = DummyVecEnv([lambda: env])\n",
    "\n",
    "#5. stack the frames\n",
    "env = VecFrameStack(env, 4, channels_order='last')"
   ]
  },
  {
   "cell_type": "code",
   "execution_count": null,
   "id": "d28b41df",
   "metadata": {},
   "outputs": [],
   "source": [
    "state = env.reset()"
   ]
  },
  {
   "cell_type": "code",
   "execution_count": null,
   "id": "2ce735d2",
   "metadata": {},
   "outputs": [],
   "source": [
    "state.shape"
   ]
  },
  {
   "cell_type": "code",
   "execution_count": null,
   "id": "0c1d3746",
   "metadata": {},
   "outputs": [],
   "source": [
    "state, reward, done, info = env.step([5])"
   ]
  },
  {
   "cell_type": "code",
   "execution_count": null,
   "id": "c1b96f3b",
   "metadata": {},
   "outputs": [],
   "source": [
    "plt.figure(figsize=(20,16))\n",
    "for idx in range(state.shape[3]):\n",
    "    plt.subplot(1, 4, idx + 1)\n",
    "    plt.imshow(state[0][:,:,idx])\n",
    "plt.show()"
   ]
  },
  {
   "cell_type": "markdown",
   "id": "710ecd1a",
   "metadata": {},
   "source": [
    "### 3. Train the RL Model"
   ]
  },
  {
   "cell_type": "code",
   "execution_count": null,
   "id": "2de0355e",
   "metadata": {},
   "outputs": [],
   "source": [
    "#import os for file path management\n",
    "import os \n",
    "#import PPO for algos\n",
    "from stable_baselines3 import PPO\n",
    "#import Base Callback for saving models\n",
    "from stable_baselines3.common.callbacks import BaseCallback"
   ]
  },
  {
   "cell_type": "code",
   "execution_count": null,
   "id": "0f49d923",
   "metadata": {},
   "outputs": [],
   "source": [
    "class TrainAndLoggingCallback(BaseCallback):\n",
    "\n",
    "    def __init__(self, check_freq, save_path, verbose=1):\n",
    "        super(TrainAndLoggingCallback, self).__init__(verbose)\n",
    "        self.check_freq = check_freq\n",
    "        self.save_path = save_path\n",
    "\n",
    "    def _init_callback(self):\n",
    "        if self.save_path is not None:\n",
    "            os.makedirs(self.save_path, exist_ok=True)\n",
    "\n",
    "    def _on_step(self):\n",
    "        if self.n_calls % self.check_freq == 0:\n",
    "            model_path = os.path.join(self.save_path, 'best_model_{}'.format(self.n_calls))\n",
    "            self.model.save(model_path)\n",
    "\n",
    "        return True"
   ]
  },
  {
   "cell_type": "code",
   "execution_count": null,
   "id": "9ace6df7",
   "metadata": {},
   "outputs": [],
   "source": [
    "CHECKPOINT_DIR = './train/'\n",
    "LOG_DIR = './logs/'"
   ]
  },
  {
   "cell_type": "code",
   "execution_count": null,
   "id": "e33a5f4d",
   "metadata": {},
   "outputs": [],
   "source": [
    "#setup model saving callback\n",
    "callback = TrainAndLoggingCallback(check_freq = 100000, save_path = CHECKPOINT_DIR)"
   ]
  },
  {
   "cell_type": "code",
   "execution_count": null,
   "id": "0d4f6f85",
   "metadata": {},
   "outputs": [],
   "source": [
    "# ai model started\n",
    "model = PPO('CnnPolicy', env, verbose=1, tensorboard_log=LOG_DIR, learning_rate=0.000001, n_steps=512)"
   ]
  },
  {
   "cell_type": "code",
   "execution_count": null,
   "id": "c41cc29b",
   "metadata": {},
   "outputs": [],
   "source": [
    "#train ai model \n",
    "model.learn(total_timesteps=1000000, callback=callback)"
   ]
  },
  {
   "cell_type": "code",
   "execution_count": null,
   "id": "06302dd6",
   "metadata": {},
   "outputs": [],
   "source": [
    "model.save('my_model')"
   ]
  },
  {
   "cell_type": "markdown",
   "id": "0172ced9",
   "metadata": {},
   "source": [
    "### 4. Test it Out"
   ]
  },
  {
   "cell_type": "code",
   "execution_count": null,
   "id": "0f1954e8",
   "metadata": {},
   "outputs": [],
   "source": [
    "model = PPO.load('./best_model_500000.zip')"
   ]
  },
  {
   "cell_type": "code",
   "execution_count": null,
   "id": "3c371bf9",
   "metadata": {},
   "outputs": [],
   "source": [
    "\n",
    "# Start the game \n",
    "state = env.reset()\n",
    "# Loop through the game\n",
    "while True: \n",
    "    \n",
    "    action, _ = model.predict(state)\n",
    "    state, reward, done, info = env.step(action)\n",
    "    env.render()"
   ]
  },
  {
   "cell_type": "code",
   "execution_count": null,
   "id": "f14bf736",
   "metadata": {},
   "outputs": [],
   "source": []
  }
 ],
 "metadata": {
  "kernelspec": {
   "display_name": "Python 3 (ipykernel)",
   "language": "python",
   "name": "python3"
  },
  "language_info": {
   "codemirror_mode": {
    "name": "ipython",
    "version": 3
   },
   "file_extension": ".py",
   "mimetype": "text/x-python",
   "name": "python",
   "nbconvert_exporter": "python",
   "pygments_lexer": "ipython3",
   "version": "3.9.7"
  }
 },
 "nbformat": 4,
 "nbformat_minor": 5
}
